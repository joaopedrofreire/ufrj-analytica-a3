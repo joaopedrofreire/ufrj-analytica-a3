{
 "cells": [
  {
   "cell_type": "code",
   "execution_count": 6,
   "metadata": {},
   "outputs": [],
   "source": [
    "import numpy as np \n",
    "import seaborn as sns\n",
    "import matplotlib.pyplot as plt\n",
    "import pandas as pd"
   ]
  },
  {
   "cell_type": "code",
   "execution_count": 9,
   "metadata": {},
   "outputs": [
    {
     "ename": "ModuleNotFoundError",
     "evalue": "No module named 'basedosdados'",
     "output_type": "error",
     "traceback": [
      "\u001b[1;31m---------------------------------------------------------------------------\u001b[0m",
      "\u001b[1;31mModuleNotFoundError\u001b[0m                       Traceback (most recent call last)",
      "\u001b[1;32mc:\\Users\\laura\\analise_analytica\\2021_06_29_analise.ipynb Cell 2'\u001b[0m in \u001b[0;36m<cell line: 1>\u001b[1;34m()\u001b[0m\n\u001b[1;32m----> <a href='vscode-notebook-cell:/c%3A/Users/laura/analise_analytica/2021_06_29_analise.ipynb#ch0000002?line=0'>1</a>\u001b[0m \u001b[39mimport\u001b[39;00m \u001b[39mbasedosdados\u001b[39;00m \u001b[39mas\u001b[39;00m \u001b[39mbd\u001b[39;00m\n\u001b[0;32m      <a href='vscode-notebook-cell:/c%3A/Users/laura/analise_analytica/2021_06_29_analise.ipynb#ch0000002?line=2'>3</a>\u001b[0m \u001b[39m# Para carregar o dado direto no pandas\u001b[39;00m\n\u001b[0;32m      <a href='vscode-notebook-cell:/c%3A/Users/laura/analise_analytica/2021_06_29_analise.ipynb#ch0000002?line=3'>4</a>\u001b[0m df \u001b[39m=\u001b[39m bd\u001b[39m.\u001b[39mread_table(dataset_id\u001b[39m=\u001b[39m\u001b[39m'\u001b[39m\u001b[39mbr_inep_censo_escolar\u001b[39m\u001b[39m'\u001b[39m,\n\u001b[0;32m      <a href='vscode-notebook-cell:/c%3A/Users/laura/analise_analytica/2021_06_29_analise.ipynb#ch0000002?line=4'>5</a>\u001b[0m table_id\u001b[39m=\u001b[39m\u001b[39m'\u001b[39m\u001b[39mturma\u001b[39m\u001b[39m'\u001b[39m,\n\u001b[0;32m      <a href='vscode-notebook-cell:/c%3A/Users/laura/analise_analytica/2021_06_29_analise.ipynb#ch0000002?line=5'>6</a>\u001b[0m billing_project_id\u001b[39m=\u001b[39m\u001b[39m\"\u001b[39m\u001b[39m<YOUR_PROJECT_ID>\u001b[39m\u001b[39m\"\u001b[39m)\n",
      "\u001b[1;31mModuleNotFoundError\u001b[0m: No module named 'basedosdados'"
     ]
    }
   ],
   "source": [
    "import basedosdados as bd\n",
    "\n",
    "# Para carregar o dado direto no pandas\n",
    "df = bd.read_table(dataset_id='br_inep_censo_escolar',\n",
    "table_id='turma',\n",
    "billing_project_id=\"<YOUR_PROJECT_ID>\")"
   ]
  },
  {
   "cell_type": "code",
   "execution_count": null,
   "metadata": {},
   "outputs": [],
   "source": []
  }
 ],
 "metadata": {
  "kernelspec": {
   "display_name": "Python 3.10.5 64-bit",
   "language": "python",
   "name": "python3"
  },
  "language_info": {
   "codemirror_mode": {
    "name": "ipython",
    "version": 3
   },
   "file_extension": ".py",
   "mimetype": "text/x-python",
   "name": "python",
   "nbconvert_exporter": "python",
   "pygments_lexer": "ipython3",
   "version": "3.10.5"
  },
  "orig_nbformat": 4,
  "vscode": {
   "interpreter": {
    "hash": "8b8460abd739cfd285469db4ba70fb777b2c8c6379ab9597621119096d2665b3"
   }
  }
 },
 "nbformat": 4,
 "nbformat_minor": 2
}
